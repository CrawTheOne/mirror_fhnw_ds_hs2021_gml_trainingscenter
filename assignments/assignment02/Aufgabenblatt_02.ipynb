{
 "cells": [
  {
   "cell_type": "markdown",
   "metadata": {},
   "source": [
    "# ML Trainingcenter\n",
    "\n",
    "## Supervised Learning - Assignment 2 : Klassifikation"
   ]
  },
  {
   "cell_type": "markdown",
   "metadata": {},
   "source": [
    "### Aufgabe 1 - Einstiegsfragen Klassifikation\n",
    "\n",
    "1. Was ist eine Confusion Matrix? Erkläre.\n",
    "2. Was sind mögliche Metriken zur Beurteilung eines Klassifikators? Wie sind die Metriken definiert?\n",
    "3. Beschreibe Szenarien, in welchen es sinnvoll ist, bestimmte Metriken zu verwenden.\n",
    "4. Was ist die Definition der logistischen Funktion?\n",
    "5. Was ist der Ansatz der logistischen Regression?\n",
    "6. Was ist deren Kostenfunktion im 2-Klassen Fall?\n",
    "7. Wie können mehrere Klassen mit logistischer Regression modelliert werden?\n",
    "8. Was wird mit 'forward propagation' und 'backward propagation' bezeichnet im Kontext von neuronalen Netzwerken?\n",
    "8. Was ist ein Maximum Margin Classifier? Nenne ein Beispiel dafür.\n",
    "9. Beschreibe den Algorithmus, welcher zur Erstellung eines Classification Trees führt. Was für 'Impurity Measures' kennst du? Wie sind sie definiert?\n",
    "10. Wie funktioniert ein Regression Tree?"
   ]
  },
  {
   "cell_type": "code",
   "execution_count": null,
   "metadata": {},
   "outputs": [],
   "source": []
  },
  {
   "cell_type": "markdown",
   "metadata": {},
   "source": [
    "### Aufgabe 2 - Iris Datensatz\n",
    "\n",
    "Lade den Iris Datensatz von `data/iris_data.csv` und visualisiere diesen.  \n",
    "\n",
    "Erstelle einen vereinfachten Datensatz daraus, welcher bloss aus den Variablen `petal length` und `petal width` besteht und weiter bloss eine Output-Variable 'Ist-Setosa' vorweist. Visualisiere diesen Datensatz."
   ]
  },
  {
   "cell_type": "code",
   "execution_count": null,
   "metadata": {},
   "outputs": [],
   "source": []
  },
  {
   "cell_type": "markdown",
   "metadata": {},
   "source": [
    "### Aufgabe 3 - k-Nearest Neighbours\n",
    "\n",
    "Implementiere eine Estimator-Klasse à la scikit-learn, welche den k-nearest neighbour Algorithmus zur Vorhersage umsetzt.\n",
    "\n",
    "Trainiere auf dem reduzierten Iris Datensatz und evaluiere das Ergebnis.  \n",
    "\n",
    "Visualisiere weiter die Eigenschaften des resultierenden Klassifikators mit der Funktion `plot_decision_regions` für verschiedene Werte von $k$. Erkläre den Plot.  "
   ]
  },
  {
   "cell_type": "code",
   "execution_count": null,
   "metadata": {},
   "outputs": [],
   "source": [
    "from mlxtend.plotting import plot_decision_regions"
   ]
  },
  {
   "cell_type": "code",
   "execution_count": null,
   "metadata": {},
   "outputs": [],
   "source": []
  },
  {
   "cell_type": "markdown",
   "metadata": {},
   "source": [
    "### Aufgabe 4 - logistische Regression\n",
    "\n",
    "Implementiere eine Estimator-Klasse à la scikit-learn, welche den l2-regularisierte logistische Regression für den Fall binärer Klassifikation zur Vorhersage umsetzt.\n",
    "\n",
    "Trainiere auf dem reduzierten Iris Datensatz und evaluiere das Ergebnis.  \n",
    "\n",
    "Visualisiere weiter die Eigenschaften des resultierenden Klassifikators mit der Funktion `plot_decision_regions`.  \n",
    "\n",
    "Trainiere weiter für alle drei vorhandenen Blumen und evaluiere und visualisiere auch dieses Ergebnis.  \n",
    "\n",
    "Wie viel besser wird dein Ergebnis, wenn du alle Variablen verwendest?"
   ]
  },
  {
   "cell_type": "code",
   "execution_count": null,
   "metadata": {},
   "outputs": [],
   "source": []
  },
  {
   "cell_type": "markdown",
   "metadata": {},
   "source": [
    "### Aufgabe 5 - Multi-Layer Perceptron\n",
    "\n",
    "Implementiere eine Estimator-Klasse à la scikit-learn, welche ein l2-regularisiertes Multi-Layer Perceptron umsetzt, mit definierbarer Architektur, logistischer Aktivierungsfunktion und logistischer Kostenfunktion.\n",
    "\n",
    "Beginne mit einer Implementation von Batch Gradient Descent, also der Berechnung des Gradienten auf dem gesamten Datensatz. Implementiere weiter Mini-Batch Gradient Descent, sowie Stochastic Gradient Descent mit Berechnung des Gradienten auf der Basis von bloss einem Datenpunkt.\n",
    "\n",
    "Zeige durch eine Approximation des Gradienten mit finiten Differenzen, dass dein Backpropagation Algorithmus funktioniert.  \n",
    "\n",
    "Trainiere auf dem Iris Datensatz mit allen Klassen, aber bloss zwei Input-Variablen, und evaluiere das Ergebnis.  \n",
    "\n",
    "Zeichne den Wert der Kostenfunktion als Funktion der Anzahl Gradient Descent-Updates.\n",
    "\n",
    "Visualisiere weiter die Eigenschaften des resultierenden Klassifikators mit der Funktion `plot_decision_regions`.  \n",
    "\n",
    "Lade nun den MNIST Datensatz (siehe auch ule Aufgabenblatt 1, Aufgabe 2) und suche nach einem MLP-Modell, welches den MNIST Datensatz möglichst gut zu klassifizieren vermag im Sinne von Mean Accuracy auf dem Testset. Diskutiere deine Ergebnisse. Vergleiche sie mit den den Benchmarks auf dieser Seite: http://yann.lecun.com/exdb/mnist/"
   ]
  },
  {
   "cell_type": "code",
   "execution_count": null,
   "metadata": {},
   "outputs": [],
   "source": []
  },
  {
   "cell_type": "markdown",
   "metadata": {},
   "source": [
    "### Aufgabe 6 - SVM\n",
    "\n",
    "Verwende den Support Vector Classifier von scikit-learn und klassifiziere den Iris Datensatz mit allen Klassen, aber bloss zwei Input-Variablen. Evaluiere die Ergebnisse und visualisiere die Decision Regions. Wie unterscheiden sich die verschiedenen Versionen im Ergebnis? Welche zusätzlichen Parameter musst du dabei 'einstellen'. Kennzeichne im Plot weiter die Support Vectors.  \n",
    "\n",
    "Visualisiere die Ergebnisse eines Grid Search im Sinne der Mean Accuracy für einen Radial Basis Function-Kernel, dessen Parameter $\\gamma$, sowie der Slack-Variablen Konstanten `C` in zwei Dimensionen als Bild. Wo liegt das Optimum für die Parameter?"
   ]
  },
  {
   "cell_type": "code",
   "execution_count": null,
   "metadata": {},
   "outputs": [],
   "source": []
  },
  {
   "cell_type": "markdown",
   "metadata": {},
   "source": [
    "### Aufgabe 7 - Classification Tree\n",
    "\n",
    "Verwende einen Classification Tree von scikit-learn (https://scikit-learn.org/stable/modules/tree) und klassifiziere den Iris Datensatz mit allen Klassen, aber bloss zwei Input-Variablen. Evaluiere die Ergebnisse und visualisiere die Decision Regions. Wie kann Overfitting für Decision Trees begegnet werden, nenne zwei Ansätze?  \n",
    "\n",
    "Zeichne einen resultierenden Entscheidungsbaum."
   ]
  },
  {
   "cell_type": "code",
   "execution_count": null,
   "metadata": {},
   "outputs": [],
   "source": []
  }
 ],
 "metadata": {
  "kernelspec": {
   "display_name": "Python 3",
   "language": "python",
   "name": "python3"
  },
  "language_info": {
   "codemirror_mode": {
    "name": "ipython",
    "version": 3
   },
   "file_extension": ".py",
   "mimetype": "text/x-python",
   "name": "python",
   "nbconvert_exporter": "python",
   "pygments_lexer": "ipython3",
   "version": "3.8.6"
  }
 },
 "nbformat": 4,
 "nbformat_minor": 4
}
