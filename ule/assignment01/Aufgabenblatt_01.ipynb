{
 "cells": [
  {
   "cell_type": "markdown",
   "metadata": {},
   "source": [
    "# Unsupervised Learning - Assignment 1 : Dimensionsreduktion\n",
    "\n",
    "## ML Trainingcenter HS 2020"
   ]
  },
  {
   "cell_type": "markdown",
   "metadata": {},
   "source": [
    "### Aufgabe 1 - Einstiegsfragen\n",
    "\n",
    "1. Wie ist die Kovarianzmatrix eines Datensatzes definiert?\n",
    "2. Warum ist die Kovarianzmatrix eines standardisierten Datensatzes gleich der Korrelationsmatrix (des ursprünglichen Datensatzes)?\n",
    "3. Was bedeutet es, dass eine Korrelationsmatrix positiv semi-definite ist? Was für weitere Eigenschaften der Korrelationsmatrix sind dir bekannt?\n",
    "4. Was ist Singular Value Decomposition?\n",
    "5. Warum kann man PCA als Matrizenzerlegung eines Datensatzes verstehen?\n",
    "6. Was sind die Unterschiede von NMF und PCA?\n",
    "7. Inwiefern unterscheiden sich die beiden methodisch von t-SNE und UMAP? (Du kannst dir dazu folgendes Video anschauen: https://www.youtube.com/watch?v=9iol3Lk6kyU&t=1503s)"
   ]
  },
  {
   "cell_type": "code",
   "execution_count": null,
   "metadata": {},
   "outputs": [],
   "source": []
  },
  {
   "cell_type": "markdown",
   "metadata": {},
   "source": [
    "### Aufgabe 2 - MNIST\n",
    "\n",
    "1. Lade den MNIST-Datensatz mit der vorhandenen Funktion und zeichne ein Gitter von 10 x 10 zufällgien Ziffern.\n",
    "2. Berechne die Korrelationsmatrix der Bilder. Was triffst du dabei für ein Problem an? Was könnte ein sinnvoller Lösungsansatz dafür sein?\n",
    "3. Zeichne die Korrelationsmatrix und interpretiere deren Muster."
   ]
  },
  {
   "cell_type": "code",
   "execution_count": null,
   "metadata": {},
   "outputs": [],
   "source": [
    "import os, struct\n",
    "import numpy as np\n",
    "\n",
    "def load_mnist(path, kind='train'):\n",
    "    \"\"\"\n",
    "    Load MNIST data from `path`.\n",
    "    \n",
    "    Use either 'train' or 't10k' to load the training or the test data.\n",
    "    \n",
    "    \"\"\"\n",
    "    labels_path = os.path.join(path,'%s-labels-idx1-ubyte'% kind)\n",
    "    images_path = os.path.join(path,'%s-images-idx3-ubyte'% kind)\n",
    "    with open(labels_path, 'rb') as lbpath:\n",
    "        magic, n = struct.unpack('>II',lbpath.read(8))\n",
    "        labels = np.fromfile(lbpath,dtype=np.uint8)\n",
    "    with open(images_path, 'rb') as imgpath:\n",
    "        magic, num, rows, cols = struct.unpack(\">IIII\",imgpath.read(16))\n",
    "        images = np.fromfile(imgpath, dtype=np.uint8).reshape(len(labels), 784)\n",
    "    return images, labels   "
   ]
  },
  {
   "cell_type": "code",
   "execution_count": null,
   "metadata": {},
   "outputs": [],
   "source": []
  },
  {
   "cell_type": "markdown",
   "metadata": {},
   "source": [
    "### Aufgabe 3 - PCA\n",
    "\n",
    "1. Berechne die Principal Components der MNIST Bilder mit Hilfe von Singular Value Decomposition. Wie viele sind es?\n",
    "2. Zeichne die ersten hundert Komponenten in ein 10 x 10 Gitter.\n",
    "3. Wie gross ist der Anteil der Gesamtvarianz der Bilder, welcher in den ersten 100 Komponenten enthalten ist?\n",
    "4. Zeichne die kumulative Summe der Varianzanteile sämtlicher Principal Components?\n",
    "5. Wieviele Komponenten brauchen wir um 99% der Varianz zu erhalten?\n",
    "6. Zeichne eine Rekonstruktion der Ziffern mit 100 Komponenten. Zeichne 100 rekonstruierte Ziffern in ein 10 x 10 Gitter. Wie gut sind die Rekonstruktionen?\n",
    "7. Zeichne einen Scatter-Plot von 1000 zufälligen Ziffern im Koordinatensystem der zwei ersten Principal Components und verwende zur Kodierung der Punktfarbe das Ziffer-Label."
   ]
  },
  {
   "cell_type": "code",
   "execution_count": null,
   "metadata": {},
   "outputs": [],
   "source": []
  },
  {
   "cell_type": "markdown",
   "metadata": {},
   "source": [
    "### Aufgabe 4 - NMF\n",
    "\n",
    "1. Schreibe das Optimierungsproblem von NMF nieder.\n",
    "2. Warum hängt das Resultat des Optimierungsvorgangs von der Initialisierung ab?\n",
    "3. Berechne 100 NMF Komponenten mit Hilfe des entsprechenden scikit-learn-Estimators.\n",
    "4. Zeichne die 100 NMF Komponenten in 10 x 10 Gitter. Wie unterscheiden sie sich von den Principal Components.\n",
    "6. Zeichne eine Rekonstruktion der Ziffern aus den berechneten NMF Komponenten in ein 10 x 10 Gitter. Wie gut sind die Rekonstruktionen? Wie fällt ein Vergleich mit der PCA-Rekonstruktion aus?\n"
   ]
  },
  {
   "cell_type": "code",
   "execution_count": null,
   "metadata": {},
   "outputs": [],
   "source": []
  },
  {
   "cell_type": "markdown",
   "metadata": {},
   "source": [
    "### Aufgabe 5 - t-SNE & UMAP \n",
    "\n",
    "1. Berechne die t-SNE-Projektion auf 2 Dimensionen für die Bilder im MNIST Datenset.\n",
    "2. Zeichne einen Scatter-Plot von 1000 zufälligen Ziffern im Koordinatensystem dieser zwei Dimensionen und verwende zur Kodierung der Punktfarbe das Ziffer-Label.\n",
    "3. Installiere die python UMAP Library in deinem Container, durch ausführen von `$ conda install -c conda-forge umap-learn` in einem Terminal JupyterLab.\n",
    "4. Studiere die Dokumentation von UMAP (https://umap-learn.readthedocs.io) und berechne dann eine Projektion des MNIST Datensets auf 2 Dimensionen.\n",
    "5. Zeichne nun erneut einen Scatter-Plot von 1000 zufälligen Ziffern im Koordinatensystem dieser zwei Dimensionen und verwende zur Kodierung der Punktfarbe das Ziffer-Label.\n",
    "6. Vergleich nun sämtliche 2-dimensionalen Projektionen des MNIST-Datensets miteinander. Was sind Vor- und Nachteile dieser Methoden?"
   ]
  },
  {
   "cell_type": "code",
   "execution_count": null,
   "metadata": {},
   "outputs": [],
   "source": []
  }
 ],
 "metadata": {
  "kernelspec": {
   "display_name": "Python 3",
   "language": "python",
   "name": "python3"
  },
  "language_info": {
   "codemirror_mode": {
    "name": "ipython",
    "version": 3
   },
   "file_extension": ".py",
   "mimetype": "text/x-python",
   "name": "python",
   "nbconvert_exporter": "python",
   "pygments_lexer": "ipython3",
   "version": "3.8.5"
  }
 },
 "nbformat": 4,
 "nbformat_minor": 4
}
