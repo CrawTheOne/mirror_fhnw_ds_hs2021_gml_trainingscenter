{
 "cells": [
  {
   "cell_type": "markdown",
   "metadata": {},
   "source": [
    "# Unsupervised Learning - Assignment 1 : Clustering\n",
    "\n",
    "## ML Trainingcenter HS 2020"
   ]
  },
  {
   "cell_type": "markdown",
   "metadata": {},
   "source": [
    "### Aufgabe 1 - Einstiegsfragen\n",
    "\n",
    "- Wozu dient Clustering?\n",
    "- Beschreibe den KMeans-Algorithmus.\n",
    "- Was ist der Unterschied zwischen K-Medoids und KMeans?\n",
    "- Wie funktioniert hierarchiesches Clustering? Welche Varianten gibt es?\n",
    "- Was definiert der 'Linkage Term' bei agglomerativen Clustering Methoden?\n",
    "- Wie funktioniert DBSCAN? Welche Parameter kannst du hier einstellen? Wie nehmen sie Einfluss auf das Clustering-Resultat?\n",
    "- Setze Gausssian Mixture Models und KMeans zueinander in Beziehung.\n",
    "- Wie funktioniert Expectation Maximization für Gaussian Mixture Models? Schreibe dazu Pseudocode."
   ]
  },
  {
   "cell_type": "code",
   "execution_count": null,
   "metadata": {},
   "outputs": [],
   "source": []
  },
  {
   "cell_type": "markdown",
   "metadata": {},
   "source": [
    "### Aufgabe 2\n",
    "\n",
    "Lade das Bild `john_vonneumann.jpg` aus dem Verzeichnis diese Übungsblatts in ein Numpy Array.\n",
    "\n",
    "Zeichne das Bild. Verwende Graustufen zur Kodierung der Pixelwerte.  \n",
    "\n",
    "Kennst du John von Neumann? Wer war er?"
   ]
  },
  {
   "cell_type": "code",
   "execution_count": null,
   "metadata": {},
   "outputs": [],
   "source": []
  },
  {
   "cell_type": "markdown",
   "metadata": {},
   "source": [
    "### Aufgabe 3\n",
    "\n",
    "Zeichne ein Histogramm der Pixelwerte.  \n",
    "\n",
    "Zwischen welchen Werten streuen die Pixelwerte?  \n",
    "Was ist eine sinnvoll gewählte Anzahl *Bins*? Begründe. \n",
    "\n",
    "Zeichne Median und Mittelwert mit ins Histogramm als vertikale Linien und beschrifte diese."
   ]
  },
  {
   "cell_type": "code",
   "execution_count": null,
   "metadata": {},
   "outputs": [],
   "source": []
  },
  {
   "cell_type": "markdown",
   "metadata": {},
   "source": [
    "### Aufgabe 4 - KMeans\n",
    "\n",
    "KMeans ist ein Clustering-Algorithmus. Mit KMeans können wir einen Datensatz in $K$ Gruppen (Cluster) unterteilen. Eine Funktion $C(i) \\in \\{ 1, \\dots, K \\}$ ordnet dabei jedem Datenpunkt $i$ einen Cluster $k$ zu. \n",
    "\n",
    "Die $K$ Gruppen werden dabei über $K$ Zentroiden, Clustermittelpunkte $\\mu_k$, charakterisiert. Datenpunkte (Pixelwerte in unserem Fall) werden dem Zentroiden zugeordnet, der ihnen am nächsten ist. Der KMeans-Algorithmus (siehe unten) findet dabei ein lokales Minimum für die Funktion\n",
    "\n",
    "$$\n",
    "J(C) = \\sum_{k=1}^{K} \\sum_{C(i)=k} ||x^{(i)} - \\mu_k||^2\n",
    "$$\n",
    "\n",
    "Er minimiert also den summierten mittleren Abstand der Datenpunkte zu ihrem Zentroiden.  \n",
    "\n",
    "Da der Algorithmus nur ein lokales Minimum findet, initialisiert man den Algorithmus in der Regel mehrfach und behält am Schluss die Lösung mit dem kleinsten Wert für die Kostenfunktion.\n",
    "\n",
    "Ein Durchlauf / eine Initialisierung des Algorithmus funktioniert wie folgt:\n",
    "\n",
    "---\n",
    "\n",
    "#### KMeans Algorithmus\n",
    "\n",
    "*Initialisierung*: Wähle $K$ Zentroiden zufällig aus den gegebenen Datenpunkten.\n",
    "\n",
    "*Schritt 1*: Für gegebene Zentroiden $(\\mu_1, .., \\mu_k)$ ordne man sämtliche Datenpunkte jeweils jenem Cluster zu, dessen Zentroid dem jeweiligen Datenpunkt am nächsten ist. Also\n",
    "\n",
    "\n",
    "\\begin{eqnarray}\n",
    "C(i) = \\mathsf{argmin}_k ||x^{(i)} - \\mu_k||^2\n",
    "\\end{eqnarray}\n",
    "\n",
    "\n",
    "*Schritt 2*: Für eine gegebene Cluster-Zuordnung $C$ minimiere man die 'Gesamt-Cluster-Varianz' durch Aktualisieren der Zentroiden mit:\n",
    "\n",
    "\n",
    "\\begin{eqnarray}\n",
    "\\mu_k = \\frac{1}{N_k} \\sum_{C(i)=k}x^{(i)}\n",
    "\\end{eqnarray}\n",
    "\n",
    "$N_k$ sind die Anzahl Datenpunkte, die k zugeordnet sind.  \n",
    "\n",
    "*Schritt 3*: Man wiederhole die Schritte 1 und 2 bis sich die Zentroiden nicht mehr verändern oder der Wert der Funktion $J(C)$ sich kaum mehr verbessert.\n",
    "\n",
    "---\n",
    "\n",
    "Wenn du mehr Kontext zu KMeans-Clustering möchtest, so kannst du dir die **Videos von Andrew Ng** anschauen, [hier](https://www.youtube.com/watch?v=Ev8YbxPu_bQ&list=PLLssT5z_DsK-h9vYZkQkYNWcItqhlRJLN&index=76). Die 5 Videos zu Kapitel 13 behandeln KMeans.  \n",
    "\n",
    "\n",
    "Vervollständige die folgende Klasse, welche den KMeans-Algorithmus umsetzen soll.  \n",
    "\n",
    "Unterteile nun die Pixelwerte unseres Bildes von John von Neumann in zwei Cluster mit KMeans.  \n",
    "\n",
    "Wo kommt der Grenszwert zwischen den beiden Cluster zu liegen? Zeichne ihn in ein Histogramm der Pixwelwerte ein und diskutiere das Ergebnis unter Einbezug der Kostenfunktion."
   ]
  },
  {
   "cell_type": "code",
   "execution_count": null,
   "metadata": {},
   "outputs": [],
   "source": [
    "# If you want, you can use the following function to efficiently compute pairwise distances.\n",
    "# Read the docstring to learn how to use it.\n",
    "from scipy.spatial.distance import cdist\n",
    "\n",
    "class KMeans(object):\n",
    "    \n",
    "    def __init__(self, k=3, n_inits=10, random_seed=None):\n",
    "        '''KMeans clustering algorithm.\n",
    "        \n",
    "        Parameters\n",
    "        ----------\n",
    "        k: number of clusters\n",
    "        n_intis: number of initializations\n",
    "        '''\n",
    "        # Parameters\n",
    "        self.k = k\n",
    "        self.n_inits = n_inits\n",
    "        self.random_seed = None\n",
    "        \n",
    "        # The following attributes will be computed through execution of the\n",
    "        # KMeans algorithm in the fit method.\n",
    "        self.centroids_ = None\n",
    "        self.labels_ = None\n",
    "        self.cost_ = None\n",
    "        self.num_iterations_ = None\n",
    "    \n",
    "    \n",
    "    def fit(self, X):\n",
    "        '''Clusters the dataset X into k clusters.\n",
    "        '''        \n",
    "        \n",
    "        # YOUR CODE HERE        \n",
    "        raise NotImplementedError()\n",
    "        \n",
    "        return self\n",
    "  \n",
    "    def cost_function(self, X):\n",
    "        '''Computes the KMeans cost function for a given dataset X.\n",
    "        '''\n",
    "        # YOUR CODE HERE\n",
    "        raise NotImplementedError()\n",
    "    \n",
    "    def predict(self, X):\n",
    "        '''Assigns each data point in X to the closest cluster.\n",
    "        \n",
    "        Can only be used after the clustering algorithm has been executed.\n",
    "        '''\n",
    "        # YOUR CODE HERE\n",
    "        raise NotImplementedError()\n",
    "    \n",
    "    # YOUR CODE HERE\n",
    "    raise NotImplementedError()"
   ]
  },
  {
   "cell_type": "markdown",
   "metadata": {},
   "source": [
    "### Augabe 5\n",
    "\n",
    "Unterteile das Bild nun in 2 - 10 Cluster.  \n",
    "\n",
    "Zeichne dann für alle Clusterings Graustufenbilder der Pixelzuordnungen so, dass die zugehörigen Zentroiden ihrer Grösse nach geordnet sind, wobei der kleinste Zentroid schwarz, der grösste weiss gezeichnet werden soll.  \n",
    "\n",
    "Diskutiere das Ergebnis.  \n",
    "\n",
    "Was scheint dir eine sinnvolle Anzahl Cluster zu sein?  \n",
    "Hast du eine Idee, wie man die Wahl der Anzahl Cluster systematisch untersuchen könnte?"
   ]
  },
  {
   "cell_type": "code",
   "execution_count": null,
   "metadata": {},
   "outputs": [],
   "source": []
  }
 ],
 "metadata": {
  "kernelspec": {
   "display_name": "Python 3",
   "language": "python",
   "name": "python3"
  },
  "language_info": {
   "codemirror_mode": {
    "name": "ipython",
    "version": 3
   },
   "file_extension": ".py",
   "mimetype": "text/x-python",
   "name": "python",
   "nbconvert_exporter": "python",
   "pygments_lexer": "ipython3",
   "version": "3.8.5"
  }
 },
 "nbformat": 4,
 "nbformat_minor": 4
}
